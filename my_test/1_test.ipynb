{
 "cells": [
  {
   "cell_type": "code",
   "execution_count": 1,
   "id": "760e13de",
   "metadata": {},
   "outputs": [],
   "source": [
    "import random\n",
    "import numpy as np\n",
    "\n",
    "def seed_everything(seed=11):\n",
    "    random.seed(seed)\n",
    "    np.random.seed(seed)"
   ]
  },
  {
   "cell_type": "code",
   "execution_count": 2,
   "id": "678b17b3",
   "metadata": {},
   "outputs": [],
   "source": [
    "seed_everything()"
   ]
  },
  {
   "cell_type": "code",
   "execution_count": 3,
   "id": "71f6dce2",
   "metadata": {},
   "outputs": [
    {
     "name": "stdout",
     "output_type": "stream",
     "text": [
      "7 8 7 7 8 9 3 2 8 7 "
     ]
    }
   ],
   "source": [
    "for i in range(10):\n",
    "    print(random.randint(0, 10), end=' ')\n"
   ]
  },
  {
   "cell_type": "code",
   "execution_count": 4,
   "id": "1a952771",
   "metadata": {},
   "outputs": [],
   "source": [
    "class MyTest():\n",
    "    def __init__(self) -> None:\n",
    "        self.a = 1\n",
    "        self.b = 2\n",
    "    \n",
    "    def add(self):\n",
    "        self.c = 3\n",
    "    \n",
    "    def show(self):\n",
    "        print(self.c)\n",
    "        "
   ]
  },
  {
   "cell_type": "code",
   "execution_count": 5,
   "id": "e7fad1bb",
   "metadata": {},
   "outputs": [
    {
     "name": "stdout",
     "output_type": "stream",
     "text": [
      "3\n"
     ]
    }
   ],
   "source": [
    "test = MyTest()\n",
    "test.add()\n",
    "test.show()"
   ]
  },
  {
   "cell_type": "code",
   "execution_count": 6,
   "id": "bfa15de0",
   "metadata": {},
   "outputs": [],
   "source": [
    "from typing import Dict, List, Any\n",
    "from dataclasses import dataclass, field"
   ]
  },
  {
   "cell_type": "code",
   "execution_count": 7,
   "id": "bfe4c7be",
   "metadata": {},
   "outputs": [
    {
     "data": {
      "text/plain": [
       "Field(name=None,type=None,default=<dataclasses._MISSING_TYPE object at 0x7f57149023c0>,default_factory=<function <lambda> at 0x7f570068b560>,init=True,repr=True,hash=None,compare=True,metadata=mappingproxy({}),kw_only=<dataclasses._MISSING_TYPE object at 0x7f57149023c0>,_field_type=None)"
      ]
     },
     "execution_count": 7,
     "metadata": {},
     "output_type": "execute_result"
    }
   ],
   "source": [
    "player_info: List[Dict[str, Any]] = field(\n",
    "        default_factory=lambda: [{'model_name': 'Qwen3-8B-Base', 'port': 3833}]\n",
    "    )\n",
    "\n",
    "player_info"
   ]
  },
  {
   "cell_type": "code",
   "execution_count": 10,
   "id": "6ae7b887",
   "metadata": {},
   "outputs": [],
   "source": [
    "from dataclasses import dataclass, field\n",
    "from typing import Dict, List, Any\n",
    "\n",
    "@dataclass\n",
    "class Connect4EnvConfig:\n",
    "    # lo_arm_name: str = \"phoenix\"\n",
    "    # hi_arm_name: str = \"dragon\"\n",
    "    # action_space_start: int = 1\n",
    "    # lo_arm_score: float = 0.1\n",
    "    # hi_arm_loscore: float = 0.0\n",
    "    # hi_arm_hiscore: float = 1.0\n",
    "    # hi_arm_hiscore_prob: float = 0.25\n",
    "    # dataclass修饰：只会将带有“类型注解 (Type Hint)”的类属性，作为参数添加到自动生成的 __init__ 方法中。\n",
    "    rows: int = 6\n",
    "    cols: int = 7\n",
    "    win_condition: int = 4\n",
    "    render_mode: str = \"text\"\n",
    "    action_lookup: Dict[int, str] = None # defined in env.py\\\n",
    "    # 另一个玩家的默认设置，后续可能可以更改\n",
    "    player_num: int = 2\n",
    "    # TODO：后续需要修改，看看self-play需要如何设置\n",
    "    player_info: List[Dict[str, Any]] = field(\n",
    "        default_factory=lambda: [{'model_name': 'Qwen3-8B-Base', 'port': 3833}]\n",
    "    )\n",
    "    temperature: float = 0.5\n",
    "    seed: int = 123\n",
    "    max_env_try: int = 3\n"
   ]
  },
  {
   "cell_type": "code",
   "execution_count": 11,
   "id": "833cdc41",
   "metadata": {},
   "outputs": [
    {
     "data": {
      "text/plain": [
       "[{'model_name': 'Qwen3-8B-Base', 'port': 3833}]"
      ]
     },
     "execution_count": 11,
     "metadata": {},
     "output_type": "execute_result"
    }
   ],
   "source": [
    "config0 = Connect4EnvConfig()\n",
    "\n",
    "config0.player_info"
   ]
  },
  {
   "cell_type": "code",
   "execution_count": 12,
   "id": "6021df59",
   "metadata": {},
   "outputs": [
    {
     "data": {
      "text/plain": [
       "1"
      ]
     },
     "execution_count": 12,
     "metadata": {},
     "output_type": "execute_result"
    }
   ],
   "source": [
    "len(config0.player_info)"
   ]
  },
  {
   "cell_type": "code",
   "execution_count": 15,
   "id": "813c3c6c",
   "metadata": {},
   "outputs": [
    {
     "data": {
      "text/plain": [
       "'Qwen3-8B-Base'"
      ]
     },
     "execution_count": 15,
     "metadata": {},
     "output_type": "execute_result"
    }
   ],
   "source": [
    "config0.player_info[0]['model_name']"
   ]
  },
  {
   "cell_type": "code",
   "execution_count": null,
   "id": "22661d83",
   "metadata": {},
   "outputs": [],
   "source": []
  }
 ],
 "metadata": {
  "kernelspec": {
   "display_name": "ragen",
   "language": "python",
   "name": "python3"
  },
  "language_info": {
   "codemirror_mode": {
    "name": "ipython",
    "version": 3
   },
   "file_extension": ".py",
   "mimetype": "text/x-python",
   "name": "python",
   "nbconvert_exporter": "python",
   "pygments_lexer": "ipython3",
   "version": "3.12.11"
  }
 },
 "nbformat": 4,
 "nbformat_minor": 5
}
